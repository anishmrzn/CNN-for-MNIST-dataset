{
 "cells": [
  {
   "cell_type": "code",
   "execution_count": 1,
   "id": "73ff546c-a5f8-42f7-93a8-73df135868b8",
   "metadata": {},
   "outputs": [
    {
     "name": "stderr",
     "output_type": "stream",
     "text": [
      "C:\\Users\\LENOVO\\anaconda3\\envs\\pytorchenv\\Lib\\site-packages\\torchvision\\io\\image.py:13: UserWarning: Failed to load image Python extension: '[WinError 127] The specified procedure could not be found'If you don't plan on using image functionality from `torchvision.io`, you can ignore this warning. Otherwise, there might be something wrong with your environment. Did you have `libjpeg` or `libpng` installed before building `torchvision` from source?\n",
      "  warn(\n"
     ]
    }
   ],
   "source": [
    "import torch\n",
    "import torch.nn as nn\n",
    "import torch.nn.functional as F\n",
    "from torch.utils.data import DataLoader\n",
    "from torchvision import datasets, transforms\n",
    "from torchvision.utils import make_grid\n",
    "import numpy as np\n",
    "import pandas as pd\n",
    "from sklearn.metrics import confusion_matrix\n",
    "import matplotlib.pyplot as plt\n",
    "%matplotlib inline"
   ]
  },
  {
   "cell_type": "code",
   "execution_count": 2,
   "id": "60229990-f6a1-4fd8-b453-e4552378ac43",
   "metadata": {},
   "outputs": [],
   "source": [
    "transform = transforms.ToTensor()"
   ]
  },
  {
   "cell_type": "code",
   "execution_count": 3,
   "id": "44938d75-86de-4f37-ba3e-9e589c87d690",
   "metadata": {},
   "outputs": [],
   "source": [
    "train_data = datasets.MNIST(root='../Data',train=True,download=True,transform=transform)"
   ]
  },
  {
   "cell_type": "code",
   "execution_count": 4,
   "id": "a7989cc6-f0e7-48a4-85ca-84d8651152db",
   "metadata": {},
   "outputs": [],
   "source": [
    "test_data = datasets.MNIST(root='../Data',train=False,download=True,transform=transform)"
   ]
  },
  {
   "cell_type": "code",
   "execution_count": 5,
   "id": "dbfa37de-93c6-4698-a87d-20d6518ce2a6",
   "metadata": {},
   "outputs": [
    {
     "data": {
      "text/plain": [
       "Dataset MNIST\n",
       "    Number of datapoints: 60000\n",
       "    Root location: ../Data\n",
       "    Split: Train\n",
       "    StandardTransform\n",
       "Transform: ToTensor()"
      ]
     },
     "execution_count": 5,
     "metadata": {},
     "output_type": "execute_result"
    }
   ],
   "source": [
    "train_data"
   ]
  },
  {
   "cell_type": "code",
   "execution_count": 6,
   "id": "ab3a9c86-70e0-4a4b-a7b3-bf409b6ce034",
   "metadata": {},
   "outputs": [],
   "source": [
    "train_loader = DataLoader(train_data,batch_size=10,shuffle=True)\n",
    "test_loader = DataLoader(test_data,batch_size=10,shuffle=False)"
   ]
  },
  {
   "cell_type": "code",
   "execution_count": 7,
   "id": "74dba8e5-90f1-45fe-b873-bae1c8cb5f55",
   "metadata": {},
   "outputs": [],
   "source": [
    "# 1color channel, 6 filters , 3x3 kernel or filter,stride =1\n",
    "conv1 = nn.Conv2d(1,6,3,1)#---> 6 filters --> pooling ---> conv2\n",
    "\n",
    "#6 input filters conv1, 16 filters, 3x3, stride =1\n",
    "conv2 = nn.Conv2d(6,16,3,1)"
   ]
  },
  {
   "cell_type": "code",
   "execution_count": 8,
   "id": "31cc30bb-1b02-4dba-bd66-15004cfd4d46",
   "metadata": {},
   "outputs": [],
   "source": [
    "for i , (X_train, y_train) in enumerate(train_data):\n",
    "    break"
   ]
  },
  {
   "cell_type": "code",
   "execution_count": 25,
   "id": "82522e1a-6f77-4684-a86a-b1ab962cc619",
   "metadata": {},
   "outputs": [],
   "source": [
    "x=X_train.view(1,1,28,28) # ---> 4D batch (batch of 1 image)\n"
   ]
  },
  {
   "cell_type": "code",
   "execution_count": 26,
   "id": "4a9702ee-eb8a-420e-a23e-f42043171805",
   "metadata": {},
   "outputs": [],
   "source": [
    "x=F.relu(conv1(x))"
   ]
  },
  {
   "cell_type": "code",
   "execution_count": 27,
   "id": "08d8ed19-d0a0-4678-b5ac-2f744e640359",
   "metadata": {},
   "outputs": [
    {
     "data": {
      "text/plain": [
       "torch.Size([1, 6, 26, 26])"
      ]
     },
     "execution_count": 27,
     "metadata": {},
     "output_type": "execute_result"
    }
   ],
   "source": [
    "x.shape\n"
   ]
  },
  {
   "cell_type": "code",
   "execution_count": 28,
   "id": "3af2f5f9-9559-436c-8f66-7db56d8c9e30",
   "metadata": {},
   "outputs": [],
   "source": [
    "x = F.max_pool2d(x,2,2)"
   ]
  },
  {
   "cell_type": "code",
   "execution_count": 29,
   "id": "db86e344-bd64-4cfe-bd53-51bce67c8006",
   "metadata": {},
   "outputs": [
    {
     "data": {
      "text/plain": [
       "torch.Size([1, 6, 13, 13])"
      ]
     },
     "execution_count": 29,
     "metadata": {},
     "output_type": "execute_result"
    }
   ],
   "source": [
    "x.shape"
   ]
  },
  {
   "cell_type": "code",
   "execution_count": 30,
   "id": "5828d757-386e-4717-86d9-d0680a1933c1",
   "metadata": {},
   "outputs": [],
   "source": [
    "x=F.relu(conv2(x))"
   ]
  },
  {
   "cell_type": "code",
   "execution_count": 31,
   "id": "eb061881-e9df-47d0-8112-f2c51055e3a5",
   "metadata": {},
   "outputs": [
    {
     "data": {
      "text/plain": [
       "torch.Size([1, 16, 11, 11])"
      ]
     },
     "execution_count": 31,
     "metadata": {},
     "output_type": "execute_result"
    }
   ],
   "source": [
    "x.shape\n"
   ]
  },
  {
   "cell_type": "code",
   "execution_count": 32,
   "id": "26023103-2173-4650-b035-5aeec5a6e2c2",
   "metadata": {},
   "outputs": [],
   "source": [
    "x = F.max_pool2d(x,2,2)"
   ]
  },
  {
   "cell_type": "code",
   "execution_count": 33,
   "id": "01d7c85b-ab87-48fe-960e-63f9e75ffd90",
   "metadata": {},
   "outputs": [
    {
     "data": {
      "text/plain": [
       "torch.Size([1, 16, 5, 5])"
      ]
     },
     "execution_count": 33,
     "metadata": {},
     "output_type": "execute_result"
    }
   ],
   "source": [
    "x.shape"
   ]
  },
  {
   "cell_type": "code",
   "execution_count": 34,
   "id": "00a2f156-216f-4087-9d3d-28e5741d165e",
   "metadata": {},
   "outputs": [],
   "source": [
    "class ConvolutionalNetwork(nn.Module):\n",
    "    def __init__(self):\n",
    "        super().__init__()\n",
    "        self.conv1 = nn.Conv2d(1, 6, 3, 1)\n",
    "        self.conv2 = nn.Conv2d(6, 16, 3, 1)\n",
    "        self.fc1 = nn.Linear(5*5*16, 120)\n",
    "        self.fc2 = nn.Linear(120, 84)\n",
    "        self.fc3 = nn.Linear(84, 10)\n",
    "\n",
    "    def forward(self, X):\n",
    "        X = F.relu(self.conv1(X))\n",
    "        \n",
    "        X = F.max_pool2d(X, 2, 2)\n",
    "        \n",
    "        X = F.relu(self.conv2(X))\n",
    "        \n",
    "        X = F.max_pool2d(X, 2, 2)\n",
    "       \n",
    "        X = X.view(-1, 16*5*5)\n",
    "        \n",
    "        X = F.relu(self.fc1(X))\n",
    "        X = F.relu(self.fc2(X))\n",
    "        X = self.fc3(X)\n",
    "        return F.log_softmax(X, dim=1)\n"
   ]
  },
  {
   "cell_type": "code",
   "execution_count": 35,
   "id": "cda31344-588c-4c6e-9d64-821b1e79421b",
   "metadata": {},
   "outputs": [
    {
     "data": {
      "text/plain": [
       "ConvolutionalNetwork(\n",
       "  (conv1): Conv2d(1, 6, kernel_size=(3, 3), stride=(1, 1))\n",
       "  (conv2): Conv2d(6, 16, kernel_size=(3, 3), stride=(1, 1))\n",
       "  (fc1): Linear(in_features=400, out_features=120, bias=True)\n",
       "  (fc2): Linear(in_features=120, out_features=84, bias=True)\n",
       "  (fc3): Linear(in_features=84, out_features=10, bias=True)\n",
       ")"
      ]
     },
     "execution_count": 35,
     "metadata": {},
     "output_type": "execute_result"
    }
   ],
   "source": [
    "torch.manual_seed(42)\n",
    "model = ConvolutionalNetwork()\n",
    "model"
   ]
  },
  {
   "cell_type": "code",
   "execution_count": 36,
   "id": "9fa43c92-16f6-4608-ac69-c00807fde5c0",
   "metadata": {},
   "outputs": [
    {
     "name": "stdout",
     "output_type": "stream",
     "text": [
      "54\n",
      "6\n",
      "864\n",
      "16\n",
      "48000\n",
      "120\n",
      "10080\n",
      "84\n",
      "840\n",
      "10\n"
     ]
    }
   ],
   "source": [
    "for param in model.parameters():#decreases parameter than ann\n",
    "    print(param.numel())"
   ]
  },
  {
   "cell_type": "code",
   "execution_count": 37,
   "id": "b2bf0d54-3c44-43a9-9e6d-77af79f7e468",
   "metadata": {},
   "outputs": [],
   "source": [
    "criterion = nn.CrossEntropyLoss()\n",
    "optimizer = torch.optim.Adam(model.parameters(),lr=0.001)"
   ]
  },
  {
   "cell_type": "code",
   "execution_count": 38,
   "id": "58fb00b3-a7c5-450e-af71-2b9044a15827",
   "metadata": {},
   "outputs": [
    {
     "name": "stdout",
     "output_type": "stream",
     "text": [
      "epoch: 0 Batch: 600 Loss: 0.04255066066980362\n",
      "epoch: 0 Batch: 1200 Loss: 0.07941801846027374\n",
      "epoch: 0 Batch: 1800 Loss: 0.31659626960754395\n",
      "epoch: 0 Batch: 2400 Loss: 0.017571639269590378\n",
      "epoch: 0 Batch: 3000 Loss: 0.006613238714635372\n",
      "epoch: 0 Batch: 3600 Loss: 0.0016816823044791818\n",
      "epoch: 0 Batch: 4200 Loss: 0.48925501108169556\n",
      "epoch: 0 Batch: 4800 Loss: 0.0214416291564703\n",
      "epoch: 0 Batch: 5400 Loss: 0.010425271466374397\n",
      "epoch: 0 Batch: 6000 Loss: 0.0398324616253376\n",
      "epoch: 1 Batch: 600 Loss: 0.01737210527062416\n",
      "epoch: 1 Batch: 1200 Loss: 0.03825012594461441\n",
      "epoch: 1 Batch: 1800 Loss: 0.0018682980444282293\n",
      "epoch: 1 Batch: 2400 Loss: 0.06100042909383774\n",
      "epoch: 1 Batch: 3000 Loss: 0.3078094720840454\n",
      "epoch: 1 Batch: 3600 Loss: 0.0002655660209711641\n",
      "epoch: 1 Batch: 4200 Loss: 0.002153786364942789\n",
      "epoch: 1 Batch: 4800 Loss: 0.0013346851337701082\n",
      "epoch: 1 Batch: 5400 Loss: 0.001729219569824636\n",
      "epoch: 1 Batch: 6000 Loss: 0.003074359381571412\n",
      "epoch: 2 Batch: 600 Loss: 0.0022780054714530706\n",
      "epoch: 2 Batch: 1200 Loss: 0.011338279582560062\n",
      "epoch: 2 Batch: 1800 Loss: 0.003464430570602417\n",
      "epoch: 2 Batch: 2400 Loss: 0.0030044694431126118\n",
      "epoch: 2 Batch: 3000 Loss: 0.3789982199668884\n",
      "epoch: 2 Batch: 3600 Loss: 0.021282173693180084\n",
      "epoch: 2 Batch: 4200 Loss: 0.0055613210424780846\n",
      "epoch: 2 Batch: 4800 Loss: 0.0038703654427081347\n",
      "epoch: 2 Batch: 5400 Loss: 0.00013294229574967176\n",
      "epoch: 2 Batch: 6000 Loss: 0.00011878479563165456\n",
      "epoch: 3 Batch: 600 Loss: 0.0010236249072477221\n",
      "epoch: 3 Batch: 1200 Loss: 0.0010050145210698247\n",
      "epoch: 3 Batch: 1800 Loss: 0.0006537956069223583\n",
      "epoch: 3 Batch: 2400 Loss: 8.469106978736818e-05\n",
      "epoch: 3 Batch: 3000 Loss: 0.00022636742505710572\n",
      "epoch: 3 Batch: 3600 Loss: 0.008743125945329666\n",
      "epoch: 3 Batch: 4200 Loss: 0.0001637572713661939\n",
      "epoch: 3 Batch: 4800 Loss: 0.006418514996767044\n",
      "epoch: 3 Batch: 5400 Loss: 0.0036632553674280643\n",
      "epoch: 3 Batch: 6000 Loss: 0.0014571135398000479\n",
      "epoch: 4 Batch: 600 Loss: 0.00040931496187113225\n",
      "epoch: 4 Batch: 1200 Loss: 0.11705819517374039\n",
      "epoch: 4 Batch: 1800 Loss: 1.7200936781591736e-05\n",
      "epoch: 4 Batch: 2400 Loss: 0.00012783589772880077\n",
      "epoch: 4 Batch: 3000 Loss: 0.05888617783784866\n",
      "epoch: 4 Batch: 3600 Loss: 0.01354175340384245\n",
      "epoch: 4 Batch: 4200 Loss: 0.0006251633749343455\n",
      "epoch: 4 Batch: 4800 Loss: 0.0004024190711788833\n",
      "epoch: 4 Batch: 5400 Loss: 4.179163079243153e-05\n",
      "epoch: 4 Batch: 6000 Loss: 0.0013856630539521575\n",
      "Training took 1.953179121017456 minutes\n"
     ]
    }
   ],
   "source": [
    "import time\n",
    "start_time = time.time()\n",
    "\n",
    "\n",
    "# Variables (trackers)\n",
    "epochs = 5\n",
    "train_losses = []\n",
    "test_losses = []\n",
    "train_correct=[]\n",
    "test_correct=[]\n",
    "#for loop epochs\n",
    "for i in range(epochs):\n",
    "    trn_corr = 0\n",
    "    tst_corr = 0\n",
    "\n",
    "    #train\n",
    "    for b,(X_train,y_train) in enumerate(train_loader):\n",
    "        b+=1\n",
    "\n",
    "        y_pred = model(X_train) #not flatten\n",
    "        loss = criterion(y_pred,y_train)\n",
    "\n",
    "        predicted = torch.max(y_pred.data,1)[1]\n",
    "        batch_corr = (predicted == y_train).sum()\n",
    "        trn_corr += batch_corr\n",
    "\n",
    "        optimizer.zero_grad()\n",
    "        loss.backward()\n",
    "        optimizer.step()\n",
    "\n",
    "        if b%600 == 0:\n",
    "            print(f\"epoch: {i} Batch: {b} Loss: {loss.item()}\")\n",
    "\n",
    "    train_losses.append(loss)\n",
    "    train_correct.append(trn_corr)\n",
    "\n",
    "    #test\n",
    "    with torch.no_grad():\n",
    "        for b,(X_test,y_test) in  enumerate(test_loader):\n",
    "\n",
    "            y_val = model(X_test)\n",
    "\n",
    "            predicted = torch.max(y_val.data,1)[1]\n",
    "            tst_corr +=(predicted == y_test).sum()\n",
    "\n",
    "    loss = criterion(y_val,y_test)\n",
    "    test_losses.append(loss)\n",
    "    test_correct.append(tst_corr)\n",
    "\n",
    "\n",
    "\n",
    "current_time = time.time()\n",
    "total = current_time - start_time\n",
    "print(f\"Training took {total/60} minutes\")"
   ]
  },
  {
   "cell_type": "code",
   "execution_count": 40,
   "id": "a92a17bb-735e-4309-9517-9317a79aabaa",
   "metadata": {},
   "outputs": [
    {
     "data": {
      "text/plain": [
       "<matplotlib.legend.Legend at 0x247a0637290>"
      ]
     },
     "execution_count": 40,
     "metadata": {},
     "output_type": "execute_result"
    },
    {
     "data": {
      "image/png": "[encoded data removed]",
      "text/plain": [
       "<Figure size 640x480 with 1 Axes>"
      ]
     },
     "metadata": {},
     "output_type": "display_data"
    }
   ],
   "source": [
    "train_losses = [loss.detach().numpy() for loss in train_losses]\n",
    "test_losses = [loss.detach().numpy() for loss in test_losses]\n",
    "plt.plot(train_losses, label = 'train loss')\n",
    "plt.plot(test_losses,label = 'validation loss')\n",
    "plt.title('loss at epoch')\n",
    "plt.legend()"
   ]
  },
  {
   "cell_type": "code",
   "execution_count": 41,
   "id": "34fe3165-80f6-44bc-ba8e-b76a98c3b76a",
   "metadata": {},
   "outputs": [
    {
     "data": {
      "image/png": "[encoded data removed]",
      "text/plain": [
       "<Figure size 640x480 with 1 Axes>"
      ]
     },
     "metadata": {},
     "output_type": "display_data"
    }
   ],
   "source": [
    "plt.plot([t/600 for t in train_correct], label='training accuracy')\n",
    "plt.plot([t/100 for t in test_correct], label='validation accuracy')\n",
    "plt.title('Accuracy at the end of each epoch')\n",
    "plt.legend()\n",
    "plt.show()"
   ]
  },
  {
   "cell_type": "code",
   "execution_count": 42,
   "id": "764f5ee9-bb28-43be-a640-aa1af047d176",
   "metadata": {},
   "outputs": [],
   "source": [
    "test_load_all = DataLoader(test_data,batch_size=10000,shuffle=False)"
   ]
  },
  {
   "cell_type": "code",
   "execution_count": 43,
   "id": "f193be06-b0fa-4b6c-bd87-f817e3e35125",
   "metadata": {},
   "outputs": [],
   "source": [
    "with torch.no_grad():\n",
    "    correct = 0\n",
    "    for X_test,y_test in test_load_all:\n",
    "        y_val = model(X_test)\n",
    "        predicted = torch.max(y_val,1)[1]\n",
    "        correct += (predicted == y_test).sum()"
   ]
  },
  {
   "cell_type": "code",
   "execution_count": 45,
   "id": "13e75b90-3af0-4d84-95f5-34a025fc4e69",
   "metadata": {},
   "outputs": [
    {
     "data": {
      "text/plain": [
       "0.9864"
      ]
     },
     "execution_count": 45,
     "metadata": {},
     "output_type": "execute_result"
    }
   ],
   "source": [
    "correct.item()/len(test_data)"
   ]
  },
  {
   "cell_type": "code",
   "execution_count": 62,
   "id": "a849b042-0a9a-442f-a137-f3233887fb22",
   "metadata": {},
   "outputs": [
    {
     "data": {
      "text/plain": [
       "<matplotlib.image.AxesImage at 0x247a084d750>"
      ]
     },
     "execution_count": 62,
     "metadata": {},
     "output_type": "execute_result"
    },
    {
     "data": {
      "image/png": "[encoded data removed]",
      "text/plain": [
       "<Figure size 640x480 with 1 Axes>"
      ]
     },
     "metadata": {},
     "output_type": "display_data"
    }
   ],
   "source": [
    "plt.imshow(test_data[5726][0].reshape(28,28))"
   ]
  },
  {
   "cell_type": "code",
   "execution_count": 63,
   "id": "3d9b0ebc-abd3-4dd6-9272-cf9df8e376e8",
   "metadata": {},
   "outputs": [],
   "source": [
    "model.eval()\n",
    "with torch.no_grad():\n",
    "    new_prediction = model(test_data[5726][0].view(1,1,28,28))"
   ]
  },
  {
   "cell_type": "code",
   "execution_count": 64,
   "id": "d7322146-368f-4700-ac19-c001f556bd2d",
   "metadata": {},
   "outputs": [
    {
     "data": {
      "text/plain": [
       "tensor(5)"
      ]
     },
     "execution_count": 64,
     "metadata": {},
     "output_type": "execute_result"
    }
   ],
   "source": [
    "new_prediction.argmax()"
   ]
  },
  {
   "cell_type": "code",
   "execution_count": null,
   "id": "ea586334-c10f-4dfe-abee-f85867184d71",
   "metadata": {},
   "outputs": [],
   "source": []
  }
 ],
 "metadata": {
  "kernelspec": {
   "display_name": "Python 3 (ipykernel)",
   "language": "python",
   "name": "python3"
  },
  "language_info": {
   "codemirror_mode": {
    "name": "ipython",
    "version": 3
   },
   "file_extension": ".py",
   "mimetype": "text/x-python",
   "name": "python",
   "nbconvert_exporter": "python",
   "pygments_lexer": "ipython3",
   "version": "3.11.9"
  }
 },
 "nbformat": 4,
 "nbformat_minor": 5
}
